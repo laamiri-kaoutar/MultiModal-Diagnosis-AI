{
 "cells": [
  {
   "cell_type": "code",
   "execution_count": 1,
   "id": "f858201c",
   "metadata": {},
   "outputs": [],
   "source": [
    "# ---  Imports ---\n",
    "from pathlib import Path\n",
    "import yaml\n",
    "\n",
    "# ---  Define paths ---\n",
    "base_path = Path(\"../data/data_yolo\")\n",
    "train_path = base_path / \"images\" / \"train\"\n",
    "val_path = base_path / \"images\" / \"val\"\n",
    "# test_path = base_path / \"images\" / \"test\"\n",
    "\n",
    "# ---  Define class names ---\n",
    "class_names = [\"Glioma\", \"Meningioma\", \"No Tumor\", \"Pituitary\"]\n",
    "\n",
    "\n",
    "\n",
    "\n"
   ]
  },
  {
   "cell_type": "code",
   "execution_count": 2,
   "id": "409bb430",
   "metadata": {},
   "outputs": [],
   "source": [
    "# --- Create data.yaml (no augmentation) ---\n",
    "data_config_noaug = {\n",
    "    \"train\": str(train_path),\n",
    "    \"val\": str(val_path),\n",
    "    # \"test\": str(test_path),\n",
    "    \"nc\": len(class_names),\n",
    "    \"names\": class_names,\n",
    "    \"augmentation\": {   # explicitly disable\n",
    "        \"flipud\": 0.0,\n",
    "        \"fliplr\": 0.0,\n",
    "        \"mosaic\": 0.0,\n",
    "        \"mixup\": 0.0,\n",
    "        \"hsv_h\": 0.0,\n",
    "        \"hsv_s\": 0.0,\n",
    "        \"hsv_v\": 0.0,\n",
    "    }\n",
    "}\n",
    "\n",
    "with open(\"../configs/data.yaml\", \"w\") as f:\n",
    "    yaml.dump(data_config_noaug, f, sort_keys=False)\n"
   ]
  },
  {
   "cell_type": "code",
   "execution_count": 3,
   "id": "6292f24b",
   "metadata": {},
   "outputs": [],
   "source": [
    "# --- Create data2.yaml (with augmentation) ---\n",
    "data_config_aug = {\n",
    "    \"train\": str(train_path),\n",
    "    \"val\": str(val_path),\n",
    "    # \"test\": str(test_path),\n",
    "    \"nc\": len(class_names),\n",
    "    \"names\": class_names,\n",
    "    \"augmentation\": {   # enable augmentations\n",
    "        \"flipud\": 0.5,\n",
    "        \"fliplr\": 0.5,\n",
    "        \"mosaic\": 1.0,\n",
    "        \"mixup\": 0.2,\n",
    "        \"hsv_h\": 0.015,\n",
    "        \"hsv_s\": 0.7,\n",
    "        \"hsv_v\": 0.4,\n",
    "    }\n",
    "}\n",
    "\n",
    "with open(\"../configs/data2.yaml\", \"w\") as f:\n",
    "    yaml.dump(data_config_aug, f, sort_keys=False)\n"
   ]
  },
  {
   "cell_type": "code",
   "execution_count": 4,
   "id": "f35b88a5",
   "metadata": {},
   "outputs": [
    {
     "name": "stdout",
     "output_type": "stream",
     "text": [
      "\n",
      "---- ../configs/data.yaml ----\n",
      "train: ..\\data\\data_yolo\\images\\train\n",
      "val: ..\\data\\data_yolo\\images\\val\n",
      "nc: 4\n",
      "names:\n",
      "- Glioma\n",
      "- Meningioma\n",
      "- No Tumor\n",
      "- Pituitary\n",
      "augmentation:\n",
      "  flipud: 0.0\n",
      "  fliplr: 0.0\n",
      "  mosaic: 0.0\n",
      "  mixup: 0.0\n",
      "  hsv_h: 0.0\n",
      "  hsv_s: 0.0\n",
      "  hsv_v: 0.0\n",
      "\n",
      "\n",
      "---- ../configs/data2.yaml ----\n",
      "train: ..\\data\\data_yolo\\images\\train\n",
      "val: ..\\data\\data_yolo\\images\\val\n",
      "nc: 4\n",
      "names:\n",
      "- Glioma\n",
      "- Meningioma\n",
      "- No Tumor\n",
      "- Pituitary\n",
      "augmentation:\n",
      "  flipud: 0.5\n",
      "  fliplr: 0.5\n",
      "  mosaic: 1.0\n",
      "  mixup: 0.2\n",
      "  hsv_h: 0.015\n",
      "  hsv_s: 0.7\n",
      "  hsv_v: 0.4\n",
      "\n"
     ]
    }
   ],
   "source": [
    "# ---  Verification ---\n",
    "for file in [\"../configs/data.yaml\", \"../configs/data2.yaml\"]:\n",
    "    print(f\"\\n---- {file} ----\")\n",
    "    with open(file) as f:\n",
    "        print(f.read())"
   ]
  }
 ],
 "metadata": {
  "kernelspec": {
   "display_name": "Python 3",
   "language": "python",
   "name": "python3"
  },
  "language_info": {
   "codemirror_mode": {
    "name": "ipython",
    "version": 3
   },
   "file_extension": ".py",
   "mimetype": "text/x-python",
   "name": "python",
   "nbconvert_exporter": "python",
   "pygments_lexer": "ipython3",
   "version": "3.13.7"
  }
 },
 "nbformat": 4,
 "nbformat_minor": 5
}
