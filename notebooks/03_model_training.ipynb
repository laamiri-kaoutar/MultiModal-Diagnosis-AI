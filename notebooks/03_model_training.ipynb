{
 "cells": [
  {
   "cell_type": "code",
   "execution_count": null,
   "id": "c00ff4d1",
   "metadata": {},
   "outputs": [],
   "source": [
    "# Reda - Cell 1: imports & basic config\n",
    "import os\n",
    "import random\n",
    "import time\n",
    "import copy\n",
    "import math\n",
    "from pathlib import Path\n",
    "from tqdm.auto import tqdm\n",
    "\n",
    "import numpy as np\n",
    "import pandas as pd\n",
    "import matplotlib.pyplot as plt\n",
    "\n",
    "import torch\n",
    "import torch.nn as nn\n",
    "import torch.optim as optim\n",
    "from torch.utils.data import DataLoader\n",
    "from torchvision import transforms, datasets, models\n",
    "\n",
    "from sklearn.metrics import confusion_matrix, classification_report, accuracy_score\n",
    "import seaborn as sns\n",
    "from PIL import Image\n",
    "\n",
    "# -------------------------\n",
    "# Config (edit if needed)\n",
    "# -------------------------\n",
    "SEED = 42\n",
    "BATCH_SIZE = 32\n",
    "NUM_WORKERS = 4        # set to 0 on Windows or if you have issues\n",
    "NUM_EPOCHS = 12\n",
    "LR = 1e-4\n",
    "DEVICE = torch.device('cuda' if torch.cuda.is_available() else 'cpu')\n",
    "\n",
    "# Paths (edit if Kaoutar used other names)\n",
    "TRAIN_DIR = 'data/augmented/train'   # fallback to 'data/splits/train' if augmented not present\n",
    "VAL_DIR   = 'data/splits/val'\n",
    "TEST_DIR  = 'data/splits/test'\n",
    "MODEL_SAVE_DIR = 'models'\n",
    "RESULTS_DIR = 'results'\n",
    "os.makedirs(MODEL_SAVE_DIR, exist_ok=True)\n",
    "os.makedirs(RESULTS_DIR, exist_ok=True)\n",
    "\n",
    "random.seed(SEED)\n",
    "np.random.seed(SEED)\n",
    "torch.manual_seed(SEED)\n",
    "if torch.cuda.is_available():\n",
    "    torch.cuda.manual_seed_all(SEED)\n",
    "\n",
    "print(\"Device:\", DEVICE)\n"
   ]
  }
 ],
 "metadata": {
  "kernelspec": {
   "display_name": "Python 3",
   "language": "python",
   "name": "python3"
  },
  "language_info": {
   "name": "python",
   "version": "3.13.7"
  }
 },
 "nbformat": 4,
 "nbformat_minor": 5
}
