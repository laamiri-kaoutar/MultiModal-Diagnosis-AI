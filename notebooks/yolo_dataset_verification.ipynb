{
 "cells": [
  {
   "cell_type": "code",
   "execution_count": 1,
   "id": "a66c7bad",
   "metadata": {},
   "outputs": [],
   "source": [
    "from pathlib import Path\n",
    "\n",
    "data_root = Path(\"../data/data_yolo\")\n",
    "\n",
    "\n",
    "def verify_pairs(subset):\n",
    "    imgs = list((data_root / \"images\" / subset).glob(\"*\"))\n",
    "    lbls = list((data_root / \"labels\" / subset).glob(\"*.txt\"))\n",
    "    img_stems = {p.stem for p in imgs}\n",
    "    lbl_stems = {p.stem for p in lbls}\n",
    "\n",
    "    imgs_missing = [p for p in imgs if p.stem not in lbl_stems]\n",
    "    lbls_missing = [p for p in lbls if p.stem not in img_stems]\n",
    "\n",
    "    print(f\"=== {subset.upper()} ===\")\n",
    "    print(f\"Images: {len(imgs)}, Labels: {len(lbls)}\")\n",
    "    print(f\"Images w/o label: {len(imgs_missing)}\")\n",
    "    print(f\"Labels w/o image: {len(lbls_missing)}\")\n",
    "\n",
    "    # Uncomment below to delete invalid pairs\n",
    "    # for p in imgs_missing: p.unlink()\n",
    "    # for p in lbls_missing: p.unlink()\n",
    "\n"
   ]
  },
  {
   "cell_type": "code",
   "execution_count": 2,
   "id": "5c435798",
   "metadata": {},
   "outputs": [
    {
     "name": "stdout",
     "output_type": "stream",
     "text": [
      "=== TRAIN ===\n",
      "Images: 4737, Labels: 4737\n",
      "Images w/o label: 0\n",
      "Labels w/o image: 0\n",
      "=== VAL ===\n",
      "Images: 510, Labels: 510\n",
      "Images w/o label: 0\n",
      "Labels w/o image: 0\n"
     ]
    }
   ],
   "source": [
    "for s in [\"train\", \"val\"]:\n",
    "    verify_pairs(s)\n"
   ]
  }
 ],
 "metadata": {
  "kernelspec": {
   "display_name": "Python 3",
   "language": "python",
   "name": "python3"
  },
  "language_info": {
   "codemirror_mode": {
    "name": "ipython",
    "version": 3
   },
   "file_extension": ".py",
   "mimetype": "text/x-python",
   "name": "python",
   "nbconvert_exporter": "python",
   "pygments_lexer": "ipython3",
   "version": "3.13.7"
  }
 },
 "nbformat": 4,
 "nbformat_minor": 5
}
