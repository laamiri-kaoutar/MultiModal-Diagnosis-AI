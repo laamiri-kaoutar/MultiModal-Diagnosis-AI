{
 "cells": [
  {
   "cell_type": "markdown",
   "id": "aaf55444",
   "metadata": {},
   "source": [
    "# Model Evaluation & Testing\n",
    "\n",
    "In this notebook, we assess the performance of the trained **GoogLeNet** model on the test dataset.  \n",
    "This step is essential to understand how well the model generalizes to new, unseen data.\n",
    "\n",
    "The test images are processed consistently with the training pipeline to ensure reliable evaluation.  \n",
    "The trained model is loaded and applied to the test dataset to generate predictions.\n",
    "\n",
    "We summarize the model’s performance using a **classification report** and a **confusion matrix**, which together provide a comprehensive view of its accuracy and capability to differentiate between the different blood cancer cell classes.\n",
    "\n",
    "This evaluation step completes the model development pipeline, offering insights into its strengths and areas for potential improvement before deployment or further refinement.\n"
   ]
  },
  {
   "cell_type": "code",
   "execution_count": null,
   "id": "e076920d",
   "metadata": {},
   "outputs": [
    {
     "name": "stderr",
     "output_type": "stream",
     "text": [
      "c:\\Users\\kaout\\AppData\\Local\\Programs\\Python\\Python313\\Lib\\site-packages\\torchvision\\models\\_utils.py:208: UserWarning: The parameter 'pretrained' is deprecated since 0.13 and may be removed in the future, please use 'weights' instead.\n",
      "  warnings.warn(\n",
      "c:\\Users\\kaout\\AppData\\Local\\Programs\\Python\\Python313\\Lib\\site-packages\\torchvision\\models\\_utils.py:223: UserWarning: Arguments other than a weight enum or `None` for 'weights' are deprecated since 0.13 and may be removed in the future. The current behavior is equivalent to passing `weights=None`.\n",
      "  warnings.warn(msg)\n",
      "c:\\Users\\kaout\\AppData\\Local\\Programs\\Python\\Python313\\Lib\\site-packages\\torchvision\\models\\googlenet.py:47: FutureWarning: The default weight initialization of GoogleNet will be changed in future releases of torchvision. If you wish to keep the old behavior (which leads to long initialization times due to scipy/scipy#11299), please set init_weights=True.\n",
      "  warnings.warn(\n"
     ]
    },
    {
     "data": {
      "image/png": "[encoded data removed]",
      "text/plain": [
       "<Figure size 800x600 with 2 Axes>"
      ]
     },
     "metadata": {},
     "output_type": "display_data"
    },
    {
     "name": "stdout",
     "output_type": "stream",
     "text": [
      "Classification Report:\n",
      "               precision    recall  f1-score   support\n",
      "\n",
      "           0       0.99      1.00      0.99        77\n",
      "           1       1.00      1.00      1.00       144\n",
      "           2       0.99      1.00      1.00       120\n",
      "           3       1.00      0.99      0.99       147\n",
      "\n",
      "    accuracy                           1.00       488\n",
      "   macro avg       0.99      1.00      1.00       488\n",
      "weighted avg       1.00      1.00      1.00       488\n",
      "\n"
     ]
    }
   ],
   "source": [
    "import torch\n",
    "import torch.nn as nn\n",
    "from torchvision import datasets, transforms, models\n",
    "from torch.utils.data import DataLoader\n",
    "from sklearn.metrics import confusion_matrix, classification_report\n",
    "import seaborn as sns\n",
    "import matplotlib.pyplot as plt\n",
    "\n",
    "# Data \n",
    "transform = transforms.Compose([\n",
    "    transforms.Resize((224, 224)),\n",
    "    transforms.ToTensor(),\n",
    "    transforms.Normalize([0.485, 0.456, 0.406],\n",
    "                         [0.229, 0.224, 0.225])\n",
    "])\n",
    "\n",
    "\n",
    "test_dir = \"../data/splits/test\"\n",
    "\n",
    "test_dataset = datasets.ImageFolder(test_dir, transform=transform)\n",
    "test_loader = DataLoader(test_dataset, batch_size=16, shuffle=False)\n",
    "\n",
    "#  Hyperparameters \n",
    "num_classes = 4  \n",
    "device = torch.device(\"cuda\" if torch.cuda.is_available() else \"cpu\")\n",
    "model_path = \"../models/best_googlenet_model.pth\"\n",
    "\n",
    "\n",
    "# Define the model\n",
    "\n",
    "googlenet = models.googlenet(pretrained=False, aux_logits=False)  \n",
    "googlenet.fc = nn.Sequential(\n",
    "    nn.Linear(googlenet.fc.in_features, 512),\n",
    "    nn.ReLU(),\n",
    "    nn.Dropout(0.3),\n",
    "    nn.Linear(512, num_classes)\n",
    ")\n",
    "googlenet.to(device)\n",
    "\n",
    "#  Load the trained weights \n",
    "googlenet.load_state_dict(torch.load(model_path, map_location=device))\n",
    "googlenet.eval()\n",
    "\n",
    "#   Evaluate on the test set \n",
    "all_preds = []\n",
    "all_labels = []\n",
    "\n",
    "with torch.no_grad():\n",
    "    for images, labels in test_loader: \n",
    "        images, labels = images.to(device), labels.to(device)\n",
    "        outputs = googlenet(images)\n",
    "        _, preds = torch.max(outputs, 1)\n",
    "        all_preds.extend(preds.cpu().numpy())\n",
    "        all_labels.extend(labels.cpu().numpy())\n",
    "\n",
    "#  Confusion Matrix\n",
    "cm = confusion_matrix(all_labels, all_preds)\n",
    "plt.figure(figsize=(8,6))\n",
    "sns.heatmap(cm, annot=True, fmt=\"d\", cmap=\"Blues\")\n",
    "plt.xlabel(\"Predicted\")\n",
    "plt.ylabel(\"Actual\")\n",
    "plt.title(\"Confusion Matrix\")\n",
    "plt.show()\n",
    "\n",
    "#  Classification Report\n",
    "report = classification_report(all_labels, all_preds, target_names=[str(i) for i in range(num_classes)])\n",
    "print(\"Classification Report:\\n\", report)\n"
   ]
  }
 ],
 "metadata": {
  "kernelspec": {
   "display_name": "Python 3",
   "language": "python",
   "name": "python3"
  },
  "language_info": {
   "codemirror_mode": {
    "name": "ipython",
    "version": 3
   },
   "file_extension": ".py",
   "mimetype": "text/x-python",
   "name": "python",
   "nbconvert_exporter": "python",
   "pygments_lexer": "ipython3",
   "version": "3.13.7"
  }
 },
 "nbformat": 4,
 "nbformat_minor": 5
}
