{
 "cells": [
  {
   "cell_type": "code",
   "execution_count": 1,
   "id": "b4c60ce2",
   "metadata": {},
   "outputs": [],
   "source": [
    "# === Cell 1: Imports ===\n",
    "from pathlib import Path\n",
    "import shutil\n",
    "from tqdm import tqdm\n",
    "\n",
    "# === Cell 2: Define paths ===\n",
    "raw_data = Path(\"../data/raw/Data_Brain\")  # contains Train and Val\n",
    "output_data = Path(\"../data/data_yolo\")\n",
    "(output_data / \"images/train\").mkdir(parents=True, exist_ok=True)\n",
    "(output_data / \"labels/train\").mkdir(parents=True, exist_ok=True)\n",
    "(output_data / \"images/val\").mkdir(parents=True, exist_ok=True)\n",
    "(output_data / \"labels/val\").mkdir(parents=True, exist_ok=True)\n"
   ]
  },
  {
   "cell_type": "code",
   "execution_count": 2,
   "id": "bd46c1d3",
   "metadata": {},
   "outputs": [],
   "source": [
    "# === Cell 3: Helper function to process one subset ===\n",
    "IMG_EXTS = {\".jpg\", \".jpeg\", \".png\", \".bmp\", \".tiff\"}\n",
    "\n",
    "def prepare_subset(subset):\n",
    "    src_folder = raw_data / subset\n",
    "    print(f\"\\nProcessing subset: {subset}\")\n",
    "    copied, skipped = 0, 0\n",
    "\n",
    "    for class_dir in sorted(src_folder.iterdir()):\n",
    "        if not class_dir.is_dir():\n",
    "            continue\n",
    "        img_dir = class_dir / \"images\"\n",
    "        lbl_dir = class_dir / \"labels\"\n",
    "        if not img_dir.exists() or not lbl_dir.exists():\n",
    "            print(f\" Missing folder in {class_dir}\")\n",
    "            continue\n",
    "\n",
    "        for img_path in tqdm(list(img_dir.iterdir()), desc=f\"{class_dir.name}\"):\n",
    "            if img_path.suffix.lower() not in IMG_EXTS:\n",
    "                continue\n",
    "            label_path = lbl_dir / f\"{img_path.stem}.txt\"\n",
    "            if label_path.exists():\n",
    "                shutil.copy2(img_path, output_data / \"images\" / subset.lower() / img_path.name)\n",
    "                shutil.copy2(label_path, output_data / \"labels\" / subset.lower() / label_path.name)\n",
    "                copied += 1\n",
    "            else:\n",
    "                skipped += 1\n",
    "    print(f\" Copied {copied} valid pairs,  Skipped {skipped} missing labels.\")\n"
   ]
  },
  {
   "cell_type": "code",
   "execution_count": 3,
   "id": "3ab59c5a",
   "metadata": {},
   "outputs": [
    {
     "name": "stdout",
     "output_type": "stream",
     "text": [
      "\n",
      "Processing subset: Train\n"
     ]
    },
    {
     "name": "stderr",
     "output_type": "stream",
     "text": [
      "Glioma: 100%|██████████| 1153/1153 [00:08<00:00, 133.21it/s]\n",
      "Meningioma: 100%|██████████| 1449/1449 [00:11<00:00, 120.81it/s]\n",
      "No Tumor: 100%|██████████| 711/711 [00:05<00:00, 127.90it/s]\n",
      "Pituitary: 100%|██████████| 1424/1424 [00:11<00:00, 120.38it/s]\n"
     ]
    },
    {
     "name": "stdout",
     "output_type": "stream",
     "text": [
      " Copied 4737 valid pairs,  Skipped 0 missing labels.\n",
      "\n",
      "Processing subset: Val\n"
     ]
    },
    {
     "name": "stderr",
     "output_type": "stream",
     "text": [
      "Glioma: 100%|██████████| 136/136 [00:01<00:00, 120.67it/s]\n",
      "Meningioma: 100%|██████████| 140/140 [00:01<00:00, 123.25it/s]\n",
      "No Tumor: 100%|██████████| 100/100 [00:00<00:00, 118.89it/s]\n",
      "Pituitary: 100%|██████████| 136/136 [00:01<00:00, 130.88it/s]"
     ]
    },
    {
     "name": "stdout",
     "output_type": "stream",
     "text": [
      " Copied 510 valid pairs,  Skipped 2 missing labels.\n"
     ]
    },
    {
     "name": "stderr",
     "output_type": "stream",
     "text": [
      "\n"
     ]
    }
   ],
   "source": [
    "# === Cell 4: Run preparation ===\n",
    "for subset in [\"Train\", \"Val\"]:\n",
    "    prepare_subset(subset)\n"
   ]
  }
 ],
 "metadata": {
  "kernelspec": {
   "display_name": "Python 3",
   "language": "python",
   "name": "python3"
  },
  "language_info": {
   "codemirror_mode": {
    "name": "ipython",
    "version": 3
   },
   "file_extension": ".py",
   "mimetype": "text/x-python",
   "name": "python",
   "nbconvert_exporter": "python",
   "pygments_lexer": "ipython3",
   "version": "3.13.7"
  }
 },
 "nbformat": 4,
 "nbformat_minor": 5
}
